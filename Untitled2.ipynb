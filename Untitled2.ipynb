{
  "nbformat": 4,
  "nbformat_minor": 0,
  "metadata": {
    "colab": {
      "provenance": [],
      "authorship_tag": "ABX9TyNJRHHKnsWCojabMtvq5H7G",
      "include_colab_link": true
    },
    "kernelspec": {
      "name": "python3",
      "display_name": "Python 3"
    },
    "language_info": {
      "name": "python"
    }
  },
  "cells": [
    {
      "cell_type": "markdown",
      "metadata": {
        "id": "view-in-github",
        "colab_type": "text"
      },
      "source": [
        "<a href=\"https://colab.research.google.com/github/TheusinhoQuint/teste/blob/main/Untitled2.ipynb\" target=\"_parent\"><img src=\"https://colab.research.google.com/assets/colab-badge.svg\" alt=\"Open In Colab\"/></a>"
      ]
    },
    {
      "cell_type": "code",
      "execution_count": 1,
      "metadata": {
        "colab": {
          "base_uri": "https://localhost:8080/"
        },
        "id": "ChiWTTdbeRDw",
        "outputId": "faaa60f4-371e-49a4-d4d3-bb41122506be"
      },
      "outputs": [
        {
          "output_type": "stream",
          "name": "stdout",
          "text": [
            "digite a medida em polegada: 2\n",
            "2.0 polegada é igual a 50.80 milimetros.\n"
          ]
        }
      ],
      "source": [
        "polegadas = float(input(\"digite a medida em polegada: \"))\n",
        "milimetros = polegadas*25.4\n",
        "print(f\"{polegadas} polegada é igual a {milimetros:.2f} milimetros.\")"
      ]
    },
    {
      "cell_type": "code",
      "source": [
        "raio = float(input(\"digite a medida em raio: \"))\n",
        "pi = 3.14159\n",
        "volume = ((4 / 3)*pi*(raio ** 3))\n",
        "print(\"O volume da esfera é: \", volume)"
      ],
      "metadata": {
        "colab": {
          "base_uri": "https://localhost:8080/"
        },
        "id": "Oxg1eAWAgOCN",
        "outputId": "b46ece44-a82d-45ca-a212-4cf61c766957"
      },
      "execution_count": 10,
      "outputs": [
        {
          "output_type": "stream",
          "name": "stdout",
          "text": [
            "digite a medida em raio: 3\n",
            "O volume da esfera é:  113.09723999999999\n"
          ]
        }
      ]
    },
    {
      "cell_type": "code",
      "source": [
        "graus = float(input(\"digite o angulo em graus: \"))\n",
        "pi = 3.14159\n",
        "radiano = graus*(pi/180)\n",
        "print(\"O angulo em radiano é: \", radiano)"
      ],
      "metadata": {
        "colab": {
          "base_uri": "https://localhost:8080/"
        },
        "id": "MvaIXecchrEe",
        "outputId": "bf17c429-9672-4b9c-ef03-053c4127f26e"
      },
      "execution_count": 12,
      "outputs": [
        {
          "output_type": "stream",
          "name": "stdout",
          "text": [
            "digite o angulo em graus: 90\n",
            "O angulo em radiano é:  1.570795\n"
          ]
        }
      ]
    },
    {
      "cell_type": "code",
      "source": [
        "radiano = float(input(\"digite o angulo em radiano: \"))\n",
        "pi = 3.14159\n",
        "grau = radiano*(180/pi)\n",
        "print(\"O angulo em graus é: \", grau)"
      ],
      "metadata": {
        "colab": {
          "base_uri": "https://localhost:8080/"
        },
        "id": "g21sv-UIiOFx",
        "outputId": "b8c87741-ed4c-4ea0-f7d6-137423a55ccf"
      },
      "execution_count": 13,
      "outputs": [
        {
          "output_type": "stream",
          "name": "stdout",
          "text": [
            "digite o angulo em radiano: 1.570795\n",
            "O angulo em graus é:  90.0\n"
          ]
        }
      ]
    },
    {
      "cell_type": "code",
      "source": [
        "radiano = float(input(\"digite o angulo em radiano: \"))\n",
        "pi = 3.14159\n",
        "grados = (radiano/(2*pi)*400)\n",
        "print(\"O radianos em grados é: \", grados)"
      ],
      "metadata": {
        "colab": {
          "base_uri": "https://localhost:8080/"
        },
        "id": "BHcZHYrCjBbP",
        "outputId": "8090234d-5b42-4874-bc73-cdeec3548d3a"
      },
      "execution_count": 20,
      "outputs": [
        {
          "output_type": "stream",
          "name": "stdout",
          "text": [
            "digite o angulo em radiano: 1\n",
            "O radianos em grados é:  63.66203100977531\n"
          ]
        }
      ]
    }
  ]
}
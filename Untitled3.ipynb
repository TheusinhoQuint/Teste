{
  "nbformat": 4,
  "nbformat_minor": 0,
  "metadata": {
    "colab": {
      "provenance": [],
      "authorship_tag": "ABX9TyN6OxxXCcLSGW76ZImdPdcJ",
      "include_colab_link": true
    },
    "kernelspec": {
      "name": "python3",
      "display_name": "Python 3"
    },
    "language_info": {
      "name": "python"
    }
  },
  "cells": [
    {
      "cell_type": "markdown",
      "metadata": {
        "id": "view-in-github",
        "colab_type": "text"
      },
      "source": [
        "<a href=\"https://colab.research.google.com/github/TheusinhoQuint/teste/blob/main/Untitled3.ipynb\" target=\"_parent\"><img src=\"https://colab.research.google.com/assets/colab-badge.svg\" alt=\"Open In Colab\"/></a>"
      ]
    },
    {
      "cell_type": "code",
      "execution_count": null,
      "metadata": {
        "colab": {
          "base_uri": "https://localhost:8080/"
        },
        "id": "nuGv3YYkgKcD",
        "outputId": "503428ad-58f7-4d4b-8970-bcff33a4849e"
      },
      "outputs": [
        {
          "output_type": "stream",
          "name": "stdout",
          "text": [
            "digite o numero: 7\n",
            "O numero 7 é imp.\n"
          ]
        }
      ],
      "source": [
        "#exercício 1\n",
        "#Solicitar que um usuarío insira um valor\n",
        "num = int(input(\"digite o numero: \"))\n",
        "if num % 2 == 0:\n",
        "      print(f\"O numero {num} é par.\")\n",
        "else:\n",
        "    print(f\"O numero {num} é imp.\")"
      ]
    },
    {
      "cell_type": "code",
      "source": [
        "import math\n",
        "\n",
        "#Solicitar ao usuário que insira um número\n",
        "num = float(input(\"Digite um número: \"))\n",
        "\n",
        "#verificar se o número é igual ou maior que 0\n",
        "if num >= 0:\n",
        "    raiz_quadrada = math.sqrt(num)\n",
        "    print(f\"A raiz quadrada de {num} é {raiz_quadrada:.2f}\")\n",
        "else:\n",
        "    print(\"não existe raiz real para este número\")"
      ],
      "metadata": {
        "colab": {
          "base_uri": "https://localhost:8080/"
        },
        "id": "28IwFKHghu6I",
        "outputId": "9eec8fce-dcd7-492d-e1d8-d3f73326a0ae"
      },
      "execution_count": 16,
      "outputs": [
        {
          "output_type": "stream",
          "name": "stdout",
          "text": [
            "Digite um número: 8\n",
            "A raiz quadrada de 8.0 é 2.83\n"
          ]
        }
      ]
    },
    {
      "cell_type": "code",
      "source": [
        "#Solicita ao usuário que insira o comprimeto e a largura da camisa\n",
        "comp = float(input(\"digite o comprimeto da camisa em centímetros: \"))\n",
        "larg = float(input(\"digite a largura da camisa em centímetros: \"))\n",
        "\n",
        "# Determina o tamanho da camisa com base no comprimento e largura\n",
        "if comp <- 60 and larg <= 45:\n",
        "    tamanho = \"pp\"\n",
        "elif comp <= 65 and larg <= 48:\n",
        "    tamanho = \"p\"\n",
        "elif comp <= 70 and larg <= 51:\n",
        "    tamanho = \"m\"\n",
        "elif comp <= 75 and larg <= 54:\n",
        "    tamanho = \"g\"\n",
        "elif comp <= 80 and larg <= 57:\n",
        "    tamanho = \"gg\"\n",
        "else:\n",
        "    tamanho = \"xgg\"\n",
        "\n",
        "#exibe o tamanho da camisa\n",
        "print(f\"tamanho da camisa é {tamanho}.\")"
      ],
      "metadata": {
        "id": "TiMe8NX2iGlC",
        "colab": {
          "base_uri": "https://localhost:8080/"
        },
        "outputId": "982f3b06-6452-4982-d46a-9e0a98f3b4b2"
      },
      "execution_count": 17,
      "outputs": [
        {
          "output_type": "stream",
          "name": "stdout",
          "text": [
            "digite o comprimeto da camisa em centímetros: 65\n",
            "digite a largura da camisa em centímetros: 51\n",
            "tamanho da camisa é m.\n"
          ]
        }
      ]
    }
  ]
}
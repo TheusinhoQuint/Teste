{
  "nbformat": 4,
  "nbformat_minor": 0,
  "metadata": {
    "colab": {
      "provenance": [],
      "authorship_tag": "ABX9TyN3kd6ws+aMBXxK1dbbjos9",
      "include_colab_link": true
    },
    "kernelspec": {
      "name": "python3",
      "display_name": "Python 3"
    },
    "language_info": {
      "name": "python"
    }
  },
  "cells": [
    {
      "cell_type": "markdown",
      "metadata": {
        "id": "view-in-github",
        "colab_type": "text"
      },
      "source": [
        "<a href=\"https://colab.research.google.com/github/TheusinhoQuint/teste/blob/main/Untitled4.ipynb\" target=\"_parent\"><img src=\"https://colab.research.google.com/assets/colab-badge.svg\" alt=\"Open In Colab\"/></a>"
      ]
    },
    {
      "cell_type": "code",
      "execution_count": 3,
      "metadata": {
        "id": "ZPHB3oVdd5_Y",
        "colab": {
          "base_uri": "https://localhost:8080/"
        },
        "outputId": "fecf6c3f-a8da-461b-f9c4-aa244d34d71f"
      },
      "outputs": [
        {
          "output_type": "stream",
          "name": "stdout",
          "text": [
            "digite o numero: 7\n",
            "O numero 7 não  é multiplo de 3.\n"
          ]
        }
      ],
      "source": [
        "#Solicitar que um usuarío insira um valor e verificar se é divisivel por 3\n",
        "\n",
        "x = int(input(\"digite o numero: \"))\n",
        "if x % 3 == 0:\n",
        "    print(f\"O numero {x} é multiplo de 3.\")\n",
        "else:\n",
        "    print(f\"O numero {x} não é multiplo de 3.\")"
      ]
    },
    {
      "cell_type": "code",
      "source": [
        "#Media\n",
        "\n",
        "a = float(input(\"digite o numero: \"))\n",
        "b = float(input(\"digite o numero: \"))\n",
        "\n",
        "m = (a+b)/2\n",
        "print(f\"Sua media é {m}.\")\n",
        "\n",
        "if m >= 5:\n",
        "    print(\"Aprovado\")\n",
        "else:\n",
        "    print(\"Reprovado\")"
      ],
      "metadata": {
        "colab": {
          "base_uri": "https://localhost:8080/"
        },
        "id": "Tt1FSNU7hkhL",
        "outputId": "10ddd061-68d0-4695-de60-0fb96f89adb5"
      },
      "execution_count": 10,
      "outputs": [
        {
          "output_type": "stream",
          "name": "stdout",
          "text": [
            "digite o numero: 2\n",
            "digite o numero: 2\n",
            "Sua media é 2.0.\n",
            "Reprovado\n"
          ]
        }
      ]
    },
    {
      "cell_type": "code",
      "source": [
        "a = float(input(\"digite o numero: \"))\n",
        "b = float(input(\"digite o numero: \"))\n",
        "c = float(input(\"digite o numero: \"))\n",
        "\n",
        "if a <= b and a <= c:\n",
        "    print(f\"{a} menor valor\")\n",
        "elif b <= a and b <= c:\n",
        "    print(f\"{b} menor valor\")\n",
        "elif c <= a and c <= b:\n",
        "    print(f\"{c} menor valor\")"
      ],
      "metadata": {
        "colab": {
          "base_uri": "https://localhost:8080/"
        },
        "id": "o2I_CAAekCYk",
        "outputId": "4a568b08-76da-433f-8f05-aa613de0d5f1"
      },
      "execution_count": 22,
      "outputs": [
        {
          "output_type": "stream",
          "name": "stdout",
          "text": [
            "digite o numero: 3\n",
            "digite o numero: 3\n",
            "digite o numero: 3\n",
            "3.0 menor valor\n"
          ]
        }
      ]
    }
  ]
}